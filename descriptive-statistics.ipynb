{
 "cells": [
  {
   "cell_type": "markdown",
   "id": "bfe8830c",
   "metadata": {
    "papermill": {
     "duration": 0.009803,
     "end_time": "2024-12-03T16:41:50.178487",
     "exception": false,
     "start_time": "2024-12-03T16:41:50.168684",
     "status": "completed"
    },
    "tags": []
   },
   "source": [
    "# Descriptive Statistics\n",
    "\n",
    "Descriptive statistics is the branch of statistics that focuses on summarizing, organizing, and presenting data in an informative way. It helps to simplify large amounts of data into meaningful representations and provides an overview of the data’s characteristics without drawing conclusions beyond the data analyzed."
   ]
  },
  {
   "cell_type": "markdown",
   "id": "99a1c63b",
   "metadata": {
    "papermill": {
     "duration": 0.009386,
     "end_time": "2024-12-03T16:41:50.196627",
     "exception": false,
     "start_time": "2024-12-03T16:41:50.187241",
     "status": "completed"
    },
    "tags": []
   },
   "source": [
    "#### Let's go through the fundamental concepts of descriptive stats\n",
    "\n",
    "* Measure of Central Tendency\n",
    "* Measure of Dispersion (Spread)\n",
    "* Measure of Position\n",
    "* Data Visualisation "
   ]
  },
  {
   "cell_type": "code",
   "execution_count": 1,
   "id": "8e326233",
   "metadata": {
    "execution": {
     "iopub.execute_input": "2024-12-03T16:41:50.215420Z",
     "iopub.status.busy": "2024-12-03T16:41:50.215013Z",
     "iopub.status.idle": "2024-12-03T16:41:53.296655Z",
     "shell.execute_reply": "2024-12-03T16:41:53.295149Z"
    },
    "papermill": {
     "duration": 3.094492,
     "end_time": "2024-12-03T16:41:53.299729",
     "exception": false,
     "start_time": "2024-12-03T16:41:50.205237",
     "status": "completed"
    },
    "tags": []
   },
   "outputs": [],
   "source": [
    "import numpy as np\n",
    "import statistics\n",
    "from scipy import stats\n",
    "import seaborn as sns\n",
    "import matplotlib.pyplot as plt\n",
    "%matplotlib inline"
   ]
  },
  {
   "cell_type": "code",
   "execution_count": 2,
   "id": "83f48fb8",
   "metadata": {
    "execution": {
     "iopub.execute_input": "2024-12-03T16:41:53.322202Z",
     "iopub.status.busy": "2024-12-03T16:41:53.321480Z",
     "iopub.status.idle": "2024-12-03T16:41:54.092394Z",
     "shell.execute_reply": "2024-12-03T16:41:54.091179Z"
    },
    "papermill": {
     "duration": 0.785641,
     "end_time": "2024-12-03T16:41:54.095228",
     "exception": false,
     "start_time": "2024-12-03T16:41:53.309587",
     "status": "completed"
    },
    "tags": []
   },
   "outputs": [],
   "source": [
    "df = sns.load_dataset('iris')"
   ]
  },
  {
   "cell_type": "code",
   "execution_count": 3,
   "id": "cc62d9c6",
   "metadata": {
    "execution": {
     "iopub.execute_input": "2024-12-03T16:41:54.115181Z",
     "iopub.status.busy": "2024-12-03T16:41:54.114776Z",
     "iopub.status.idle": "2024-12-03T16:41:54.139825Z",
     "shell.execute_reply": "2024-12-03T16:41:54.138733Z"
    },
    "papermill": {
     "duration": 0.037877,
     "end_time": "2024-12-03T16:41:54.142228",
     "exception": false,
     "start_time": "2024-12-03T16:41:54.104351",
     "status": "completed"
    },
    "tags": []
   },
   "outputs": [
    {
     "data": {
      "text/html": [
       "<div>\n",
       "<style scoped>\n",
       "    .dataframe tbody tr th:only-of-type {\n",
       "        vertical-align: middle;\n",
       "    }\n",
       "\n",
       "    .dataframe tbody tr th {\n",
       "        vertical-align: top;\n",
       "    }\n",
       "\n",
       "    .dataframe thead th {\n",
       "        text-align: right;\n",
       "    }\n",
       "</style>\n",
       "<table border=\"1\" class=\"dataframe\">\n",
       "  <thead>\n",
       "    <tr style=\"text-align: right;\">\n",
       "      <th></th>\n",
       "      <th>sepal_length</th>\n",
       "      <th>sepal_width</th>\n",
       "      <th>petal_length</th>\n",
       "      <th>petal_width</th>\n",
       "      <th>species</th>\n",
       "    </tr>\n",
       "  </thead>\n",
       "  <tbody>\n",
       "    <tr>\n",
       "      <th>0</th>\n",
       "      <td>5.1</td>\n",
       "      <td>3.5</td>\n",
       "      <td>1.4</td>\n",
       "      <td>0.2</td>\n",
       "      <td>setosa</td>\n",
       "    </tr>\n",
       "    <tr>\n",
       "      <th>1</th>\n",
       "      <td>4.9</td>\n",
       "      <td>3.0</td>\n",
       "      <td>1.4</td>\n",
       "      <td>0.2</td>\n",
       "      <td>setosa</td>\n",
       "    </tr>\n",
       "    <tr>\n",
       "      <th>2</th>\n",
       "      <td>4.7</td>\n",
       "      <td>3.2</td>\n",
       "      <td>1.3</td>\n",
       "      <td>0.2</td>\n",
       "      <td>setosa</td>\n",
       "    </tr>\n",
       "    <tr>\n",
       "      <th>3</th>\n",
       "      <td>4.6</td>\n",
       "      <td>3.1</td>\n",
       "      <td>1.5</td>\n",
       "      <td>0.2</td>\n",
       "      <td>setosa</td>\n",
       "    </tr>\n",
       "    <tr>\n",
       "      <th>4</th>\n",
       "      <td>5.0</td>\n",
       "      <td>3.6</td>\n",
       "      <td>1.4</td>\n",
       "      <td>0.2</td>\n",
       "      <td>setosa</td>\n",
       "    </tr>\n",
       "  </tbody>\n",
       "</table>\n",
       "</div>"
      ],
      "text/plain": [
       "   sepal_length  sepal_width  petal_length  petal_width species\n",
       "0           5.1          3.5           1.4          0.2  setosa\n",
       "1           4.9          3.0           1.4          0.2  setosa\n",
       "2           4.7          3.2           1.3          0.2  setosa\n",
       "3           4.6          3.1           1.5          0.2  setosa\n",
       "4           5.0          3.6           1.4          0.2  setosa"
      ]
     },
     "execution_count": 3,
     "metadata": {},
     "output_type": "execute_result"
    }
   ],
   "source": [
    "df.head()"
   ]
  },
  {
   "cell_type": "code",
   "execution_count": 4,
   "id": "e35f435f",
   "metadata": {
    "execution": {
     "iopub.execute_input": "2024-12-03T16:41:54.162002Z",
     "iopub.status.busy": "2024-12-03T16:41:54.161628Z",
     "iopub.status.idle": "2024-12-03T16:41:54.166752Z",
     "shell.execute_reply": "2024-12-03T16:41:54.165669Z"
    },
    "papermill": {
     "duration": 0.017718,
     "end_time": "2024-12-03T16:41:54.169059",
     "exception": false,
     "start_time": "2024-12-03T16:41:54.151341",
     "status": "completed"
    },
    "tags": []
   },
   "outputs": [],
   "source": [
    "sepal_length = np.array(df['sepal_length'])"
   ]
  },
  {
   "cell_type": "markdown",
   "id": "5ee28b4a",
   "metadata": {
    "papermill": {
     "duration": 0.008647,
     "end_time": "2024-12-03T16:41:54.186824",
     "exception": false,
     "start_time": "2024-12-03T16:41:54.178177",
     "status": "completed"
    },
    "tags": []
   },
   "source": [
    "## Measure of Central Tendency\n",
    "\n",
    "Measures of central tendency summarize a dataset by identifying a central point around which the data is distributed. They help describe the “typical” value in the dataset and include the mean, median, and mode."
   ]
  },
  {
   "cell_type": "markdown",
   "id": "4ec8f9e8",
   "metadata": {
    "papermill": {
     "duration": 0.008627,
     "end_time": "2024-12-03T16:41:54.204438",
     "exception": false,
     "start_time": "2024-12-03T16:41:54.195811",
     "status": "completed"
    },
    "tags": []
   },
   "source": [
    "### Mean\n",
    "\n",
    "The mean is the sum of all data points divided by the total number of data points.\n",
    "\n",
    "Formula:\n",
    "$$\n",
    "\\text{Mean} = \\frac{\\sum x_i}{n}\n",
    "$$\n",
    "where:\n",
    "\n",
    "\t• x_i  represents each data point\n",
    "\t• n  is the total number of data points"
   ]
  },
  {
   "cell_type": "code",
   "execution_count": 5,
   "id": "06c8094b",
   "metadata": {
    "execution": {
     "iopub.execute_input": "2024-12-03T16:41:54.223901Z",
     "iopub.status.busy": "2024-12-03T16:41:54.223509Z",
     "iopub.status.idle": "2024-12-03T16:41:54.228864Z",
     "shell.execute_reply": "2024-12-03T16:41:54.227891Z"
    },
    "papermill": {
     "duration": 0.017582,
     "end_time": "2024-12-03T16:41:54.230932",
     "exception": false,
     "start_time": "2024-12-03T16:41:54.213350",
     "status": "completed"
    },
    "tags": []
   },
   "outputs": [],
   "source": [
    "def mean(list_num):\n",
    "    total_sum = 0\n",
    "    for i in list_num:\n",
    "        total_sum += i\n",
    "    return total_sum / len(list_num)"
   ]
  },
  {
   "cell_type": "code",
   "execution_count": 6,
   "id": "67c6ed35",
   "metadata": {
    "execution": {
     "iopub.execute_input": "2024-12-03T16:41:54.251290Z",
     "iopub.status.busy": "2024-12-03T16:41:54.250866Z",
     "iopub.status.idle": "2024-12-03T16:41:54.257017Z",
     "shell.execute_reply": "2024-12-03T16:41:54.255816Z"
    },
    "papermill": {
     "duration": 0.018669,
     "end_time": "2024-12-03T16:41:54.259276",
     "exception": false,
     "start_time": "2024-12-03T16:41:54.240607",
     "status": "completed"
    },
    "tags": []
   },
   "outputs": [
    {
     "name": "stdout",
     "output_type": "stream",
     "text": [
      "5.843333333333335\n"
     ]
    }
   ],
   "source": [
    "mean_ = mean(sepal_length)\n",
    "print(mean_)"
   ]
  },
  {
   "cell_type": "code",
   "execution_count": 7,
   "id": "6a3df108",
   "metadata": {
    "execution": {
     "iopub.execute_input": "2024-12-03T16:41:54.278918Z",
     "iopub.status.busy": "2024-12-03T16:41:54.278469Z",
     "iopub.status.idle": "2024-12-03T16:41:54.285881Z",
     "shell.execute_reply": "2024-12-03T16:41:54.284605Z"
    },
    "papermill": {
     "duration": 0.019886,
     "end_time": "2024-12-03T16:41:54.288164",
     "exception": false,
     "start_time": "2024-12-03T16:41:54.268278",
     "status": "completed"
    },
    "tags": []
   },
   "outputs": [
    {
     "data": {
      "text/plain": [
       "5.843333333333334"
      ]
     },
     "execution_count": 7,
     "metadata": {},
     "output_type": "execute_result"
    }
   ],
   "source": [
    "np.mean(sepal_length)"
   ]
  },
  {
   "cell_type": "markdown",
   "id": "70b93502",
   "metadata": {
    "papermill": {
     "duration": 0.008697,
     "end_time": "2024-12-03T16:41:54.306070",
     "exception": false,
     "start_time": "2024-12-03T16:41:54.297373",
     "status": "completed"
    },
    "tags": []
   },
   "source": [
    "### Median\n",
    "\n",
    "The median is the middle value of a dataset when it is arranged in ascending or descending order. If there is an even number of data points, the median is the average of the two middle values.\n",
    "\n",
    "Steps to Find:\n",
    "\n",
    "\t1. Arrange the data in ascending order.\n",
    "\t2. Identify the middle value:\n",
    "    \t• Odd n : Middle value.\n",
    "    \t• Even n : Average of the two middle values."
   ]
  },
  {
   "cell_type": "code",
   "execution_count": 8,
   "id": "bc82bfd5",
   "metadata": {
    "execution": {
     "iopub.execute_input": "2024-12-03T16:41:54.325931Z",
     "iopub.status.busy": "2024-12-03T16:41:54.325501Z",
     "iopub.status.idle": "2024-12-03T16:41:54.331292Z",
     "shell.execute_reply": "2024-12-03T16:41:54.330026Z"
    },
    "papermill": {
     "duration": 0.018449,
     "end_time": "2024-12-03T16:41:54.333586",
     "exception": false,
     "start_time": "2024-12-03T16:41:54.315137",
     "status": "completed"
    },
    "tags": []
   },
   "outputs": [],
   "source": [
    "def median(list_num):\n",
    "    list_num = sorted(list_num)\n",
    "    n = len(list_num)\n",
    "    if n % 2 == 1:\n",
    "        return list_num[n//2]\n",
    "    else:\n",
    "        return (list_num[n//2] + list_num[n//2 - 1])/2"
   ]
  },
  {
   "cell_type": "code",
   "execution_count": 9,
   "id": "3dcbb671",
   "metadata": {
    "execution": {
     "iopub.execute_input": "2024-12-03T16:41:54.353620Z",
     "iopub.status.busy": "2024-12-03T16:41:54.353233Z",
     "iopub.status.idle": "2024-12-03T16:41:54.358916Z",
     "shell.execute_reply": "2024-12-03T16:41:54.357779Z"
    },
    "papermill": {
     "duration": 0.018233,
     "end_time": "2024-12-03T16:41:54.361027",
     "exception": false,
     "start_time": "2024-12-03T16:41:54.342794",
     "status": "completed"
    },
    "tags": []
   },
   "outputs": [
    {
     "name": "stdout",
     "output_type": "stream",
     "text": [
      "5.8\n"
     ]
    }
   ],
   "source": [
    "median_ = median(sepal_length)\n",
    "print(median_)"
   ]
  },
  {
   "cell_type": "code",
   "execution_count": 10,
   "id": "3a0c8304",
   "metadata": {
    "execution": {
     "iopub.execute_input": "2024-12-03T16:41:54.381186Z",
     "iopub.status.busy": "2024-12-03T16:41:54.380735Z",
     "iopub.status.idle": "2024-12-03T16:41:54.389936Z",
     "shell.execute_reply": "2024-12-03T16:41:54.388746Z"
    },
    "papermill": {
     "duration": 0.021716,
     "end_time": "2024-12-03T16:41:54.391992",
     "exception": false,
     "start_time": "2024-12-03T16:41:54.370276",
     "status": "completed"
    },
    "tags": []
   },
   "outputs": [
    {
     "data": {
      "text/plain": [
       "5.8"
      ]
     },
     "execution_count": 10,
     "metadata": {},
     "output_type": "execute_result"
    }
   ],
   "source": [
    "np.median(sepal_length)"
   ]
  },
  {
   "cell_type": "markdown",
   "id": "060fe6da",
   "metadata": {
    "papermill": {
     "duration": 0.008969,
     "end_time": "2024-12-03T16:41:54.410184",
     "exception": false,
     "start_time": "2024-12-03T16:41:54.401215",
     "status": "completed"
    },
    "tags": []
   },
   "source": [
    "### Mode\n",
    "\n",
    "The mode is the value or values that appear most frequently in the dataset."
   ]
  },
  {
   "cell_type": "code",
   "execution_count": 11,
   "id": "4b78babf",
   "metadata": {
    "execution": {
     "iopub.execute_input": "2024-12-03T16:41:54.430545Z",
     "iopub.status.busy": "2024-12-03T16:41:54.430142Z",
     "iopub.status.idle": "2024-12-03T16:41:54.437296Z",
     "shell.execute_reply": "2024-12-03T16:41:54.435937Z"
    },
    "papermill": {
     "duration": 0.020068,
     "end_time": "2024-12-03T16:41:54.439320",
     "exception": false,
     "start_time": "2024-12-03T16:41:54.419252",
     "status": "completed"
    },
    "tags": []
   },
   "outputs": [],
   "source": [
    "def mode(list_num):\n",
    "    frequency = {}\n",
    "    for num in list_num:\n",
    "        if num in frequency:\n",
    "            frequency[num] += 1\n",
    "        else:\n",
    "            frequency[num] = 1\n",
    "    max_frequency = max(frequency.values())\n",
    "    modes = [key for key, value in frequency.items() if value == max_frequency]\n",
    "    if len(modes) == len(frequency):\n",
    "        return None\n",
    "    return modes if len(modes) > 1 else modes[0]"
   ]
  },
  {
   "cell_type": "code",
   "execution_count": 12,
   "id": "11063181",
   "metadata": {
    "execution": {
     "iopub.execute_input": "2024-12-03T16:41:54.459446Z",
     "iopub.status.busy": "2024-12-03T16:41:54.459028Z",
     "iopub.status.idle": "2024-12-03T16:41:54.464850Z",
     "shell.execute_reply": "2024-12-03T16:41:54.463688Z"
    },
    "papermill": {
     "duration": 0.018925,
     "end_time": "2024-12-03T16:41:54.467494",
     "exception": false,
     "start_time": "2024-12-03T16:41:54.448569",
     "status": "completed"
    },
    "tags": []
   },
   "outputs": [
    {
     "name": "stdout",
     "output_type": "stream",
     "text": [
      "5.0\n"
     ]
    }
   ],
   "source": [
    "mode_ = mode(sepal_length)\n",
    "print(mode_)"
   ]
  },
  {
   "cell_type": "code",
   "execution_count": 13,
   "id": "0fd2508d",
   "metadata": {
    "execution": {
     "iopub.execute_input": "2024-12-03T16:41:54.489218Z",
     "iopub.status.busy": "2024-12-03T16:41:54.488784Z",
     "iopub.status.idle": "2024-12-03T16:41:54.494427Z",
     "shell.execute_reply": "2024-12-03T16:41:54.493401Z"
    },
    "papermill": {
     "duration": 0.018897,
     "end_time": "2024-12-03T16:41:54.496604",
     "exception": false,
     "start_time": "2024-12-03T16:41:54.477707",
     "status": "completed"
    },
    "tags": []
   },
   "outputs": [
    {
     "name": "stdout",
     "output_type": "stream",
     "text": [
      "5.0\n"
     ]
    }
   ],
   "source": [
    "print(statistics.mode(sepal_length))"
   ]
  },
  {
   "cell_type": "markdown",
   "id": "45259698",
   "metadata": {
    "papermill": {
     "duration": 0.009289,
     "end_time": "2024-12-03T16:41:54.515183",
     "exception": false,
     "start_time": "2024-12-03T16:41:54.505894",
     "status": "completed"
    },
    "tags": []
   },
   "source": [
    "## Measures of Dispersion (Spread)\n",
    "\n",
    "Measures of dispersion, also known as measures of variability or spread, describe the extent to which data points in a dataset differ from one another and from the central value (mean, median, or mode). They help us understand the distribution’s spread and variability."
   ]
  },
  {
   "cell_type": "markdown",
   "id": "c9d83803",
   "metadata": {
    "papermill": {
     "duration": 0.009131,
     "end_time": "2024-12-03T16:41:54.533702",
     "exception": false,
     "start_time": "2024-12-03T16:41:54.524571",
     "status": "completed"
    },
    "tags": []
   },
   "source": [
    "### Range\n",
    "\n",
    "The simplest measure of dispersion, it is the difference between the maximum and minimum values in a dataset.\n",
    "\n",
    "Formula:\n",
    "$$\n",
    "\\text{Range} = \\text{Max} - \\text{Min}\n",
    "$$"
   ]
  },
  {
   "cell_type": "code",
   "execution_count": 14,
   "id": "b6b94bc6",
   "metadata": {
    "execution": {
     "iopub.execute_input": "2024-12-03T16:41:54.554338Z",
     "iopub.status.busy": "2024-12-03T16:41:54.553579Z",
     "iopub.status.idle": "2024-12-03T16:41:54.558693Z",
     "shell.execute_reply": "2024-12-03T16:41:54.557510Z"
    },
    "papermill": {
     "duration": 0.017766,
     "end_time": "2024-12-03T16:41:54.560759",
     "exception": false,
     "start_time": "2024-12-03T16:41:54.542993",
     "status": "completed"
    },
    "tags": []
   },
   "outputs": [],
   "source": [
    "def range(list_num):\n",
    "    return max(list_num) - min(list_num)"
   ]
  },
  {
   "cell_type": "code",
   "execution_count": 15,
   "id": "e64d70aa",
   "metadata": {
    "execution": {
     "iopub.execute_input": "2024-12-03T16:41:54.581166Z",
     "iopub.status.busy": "2024-12-03T16:41:54.580761Z",
     "iopub.status.idle": "2024-12-03T16:41:54.586579Z",
     "shell.execute_reply": "2024-12-03T16:41:54.585325Z"
    },
    "papermill": {
     "duration": 0.018658,
     "end_time": "2024-12-03T16:41:54.588732",
     "exception": false,
     "start_time": "2024-12-03T16:41:54.570074",
     "status": "completed"
    },
    "tags": []
   },
   "outputs": [
    {
     "name": "stdout",
     "output_type": "stream",
     "text": [
      "3.6000000000000005\n"
     ]
    }
   ],
   "source": [
    "range_ = range(sepal_length)\n",
    "print(range_)"
   ]
  },
  {
   "cell_type": "markdown",
   "id": "737b2b06",
   "metadata": {
    "papermill": {
     "duration": 0.008895,
     "end_time": "2024-12-03T16:41:54.607004",
     "exception": false,
     "start_time": "2024-12-03T16:41:54.598109",
     "status": "completed"
    },
    "tags": []
   },
   "source": [
    "### Variance\n",
    "\n",
    "The average of the squared differences of each data point from the mean. It quantifies how far data points are from the mean in a squared sense.\n",
    "\n",
    "Formula:\n",
    "$$\n",
    "\\text{Variance} = \\frac{\\sum (x_i - \\text{Mean})^2}{n}\n",
    "$$\n",
    "For a sample:\n",
    "$$\n",
    "\\text{Sample Variance} = \\frac{\\sum (x_i - \\bar{x})^2}{n-1}\n",
    "$$"
   ]
  },
  {
   "cell_type": "code",
   "execution_count": 16,
   "id": "9b675e1b",
   "metadata": {
    "execution": {
     "iopub.execute_input": "2024-12-03T16:41:54.627875Z",
     "iopub.status.busy": "2024-12-03T16:41:54.626924Z",
     "iopub.status.idle": "2024-12-03T16:41:54.633004Z",
     "shell.execute_reply": "2024-12-03T16:41:54.631808Z"
    },
    "papermill": {
     "duration": 0.018973,
     "end_time": "2024-12-03T16:41:54.635248",
     "exception": false,
     "start_time": "2024-12-03T16:41:54.616275",
     "status": "completed"
    },
    "tags": []
   },
   "outputs": [],
   "source": [
    "def sample_variance(list_num):\n",
    "    mean = sum(list_num) / len(list_num)\n",
    "    squared_differences = [(x - mean) ** 2 for x in list_num]\n",
    "    return sum(squared_differences) / (len(list_num))"
   ]
  },
  {
   "cell_type": "code",
   "execution_count": 17,
   "id": "b8936629",
   "metadata": {
    "execution": {
     "iopub.execute_input": "2024-12-03T16:41:54.655621Z",
     "iopub.status.busy": "2024-12-03T16:41:54.655221Z",
     "iopub.status.idle": "2024-12-03T16:41:54.660990Z",
     "shell.execute_reply": "2024-12-03T16:41:54.659939Z"
    },
    "papermill": {
     "duration": 0.018525,
     "end_time": "2024-12-03T16:41:54.663168",
     "exception": false,
     "start_time": "2024-12-03T16:41:54.644643",
     "status": "completed"
    },
    "tags": []
   },
   "outputs": [
    {
     "name": "stdout",
     "output_type": "stream",
     "text": [
      "0.6811222222222222\n"
     ]
    }
   ],
   "source": [
    "sample_variance_ = sample_variance(sepal_length)\n",
    "print(sample_variance_)"
   ]
  },
  {
   "cell_type": "code",
   "execution_count": 18,
   "id": "81c46786",
   "metadata": {
    "execution": {
     "iopub.execute_input": "2024-12-03T16:41:54.684166Z",
     "iopub.status.busy": "2024-12-03T16:41:54.683724Z",
     "iopub.status.idle": "2024-12-03T16:41:54.691576Z",
     "shell.execute_reply": "2024-12-03T16:41:54.690386Z"
    },
    "papermill": {
     "duration": 0.021013,
     "end_time": "2024-12-03T16:41:54.693725",
     "exception": false,
     "start_time": "2024-12-03T16:41:54.672712",
     "status": "completed"
    },
    "tags": []
   },
   "outputs": [
    {
     "data": {
      "text/plain": [
       "0.6811222222222223"
      ]
     },
     "execution_count": 18,
     "metadata": {},
     "output_type": "execute_result"
    }
   ],
   "source": [
    "np.var(sepal_length)"
   ]
  },
  {
   "cell_type": "markdown",
   "id": "e478ecd2",
   "metadata": {
    "papermill": {
     "duration": 0.009212,
     "end_time": "2024-12-03T16:41:54.713006",
     "exception": false,
     "start_time": "2024-12-03T16:41:54.703794",
     "status": "completed"
    },
    "tags": []
   },
   "source": [
    "### Standard Deviation (SD)\n",
    "\n",
    "The square root of the variance, providing a measure of spread in the same units as the data.\n",
    "\n",
    "$$\n",
    "\\text{Standard Deviation} = \\sqrt{\\text{Variance}}\n",
    "$$"
   ]
  },
  {
   "cell_type": "code",
   "execution_count": 19,
   "id": "f25183d1",
   "metadata": {
    "execution": {
     "iopub.execute_input": "2024-12-03T16:41:54.733881Z",
     "iopub.status.busy": "2024-12-03T16:41:54.733485Z",
     "iopub.status.idle": "2024-12-03T16:41:54.739049Z",
     "shell.execute_reply": "2024-12-03T16:41:54.738110Z"
    },
    "papermill": {
     "duration": 0.018723,
     "end_time": "2024-12-03T16:41:54.741189",
     "exception": false,
     "start_time": "2024-12-03T16:41:54.722466",
     "status": "completed"
    },
    "tags": []
   },
   "outputs": [],
   "source": [
    "def standard_deviation(list_num):\n",
    "    mean = sum(list_num) / len(list_num)\n",
    "    squared_differences = [(x - mean) ** 2 for x in list_num]\n",
    "    sample_variance = sum(squared_differences) / (len(list_num))\n",
    "    return sample_variance**0.5"
   ]
  },
  {
   "cell_type": "code",
   "execution_count": 20,
   "id": "f27f3a94",
   "metadata": {
    "execution": {
     "iopub.execute_input": "2024-12-03T16:41:54.762314Z",
     "iopub.status.busy": "2024-12-03T16:41:54.761890Z",
     "iopub.status.idle": "2024-12-03T16:41:54.767246Z",
     "shell.execute_reply": "2024-12-03T16:41:54.766159Z"
    },
    "papermill": {
     "duration": 0.01951,
     "end_time": "2024-12-03T16:41:54.770278",
     "exception": false,
     "start_time": "2024-12-03T16:41:54.750768",
     "status": "completed"
    },
    "tags": []
   },
   "outputs": [
    {
     "name": "stdout",
     "output_type": "stream",
     "text": [
      "0.8253012917851409\n"
     ]
    }
   ],
   "source": [
    "standard_deviation_ = standard_deviation(sepal_length)\n",
    "print(standard_deviation_)"
   ]
  },
  {
   "cell_type": "code",
   "execution_count": 21,
   "id": "f3ed1d66",
   "metadata": {
    "execution": {
     "iopub.execute_input": "2024-12-03T16:41:54.793323Z",
     "iopub.status.busy": "2024-12-03T16:41:54.792410Z",
     "iopub.status.idle": "2024-12-03T16:41:54.798802Z",
     "shell.execute_reply": "2024-12-03T16:41:54.797230Z"
    },
    "papermill": {
     "duration": 0.021224,
     "end_time": "2024-12-03T16:41:54.801061",
     "exception": false,
     "start_time": "2024-12-03T16:41:54.779837",
     "status": "completed"
    },
    "tags": []
   },
   "outputs": [
    {
     "name": "stdout",
     "output_type": "stream",
     "text": [
      "0.8253012917851409\n"
     ]
    }
   ],
   "source": [
    "print(np.std(sepal_length))"
   ]
  },
  {
   "cell_type": "markdown",
   "id": "e33ba8d6",
   "metadata": {
    "papermill": {
     "duration": 0.013883,
     "end_time": "2024-12-03T16:41:54.827834",
     "exception": false,
     "start_time": "2024-12-03T16:41:54.813951",
     "status": "completed"
    },
    "tags": []
   },
   "source": [
    "## Measures of Position\n",
    "\n",
    "Measures of position describe where a particular value lies relative to the rest of the data in a dataset. These metrics help in understanding how individual data points compare to others and the overall spread of the dataset."
   ]
  },
  {
   "cell_type": "markdown",
   "id": "ffe7e4c7",
   "metadata": {
    "papermill": {
     "duration": 0.01004,
     "end_time": "2024-12-03T16:41:54.851214",
     "exception": false,
     "start_time": "2024-12-03T16:41:54.841174",
     "status": "completed"
    },
    "tags": []
   },
   "source": [
    "### Percentiles\n",
    "\n",
    "Percentiles divide the data into 100 equal parts. A specific percentile indicates the value below which a given percentage of the data falls.\n",
    "\n",
    "Formula to find rank:\n",
    "$$\n",
    "k = \\frac{P}{100} \\times (n + 1)\n",
    "$$\n",
    "where:\n",
    "\n",
    "\t• P is the desired percentile (e.g., 25, 50, 90, etc.).\n",
    "\t• n is the number of data points in the dataset."
   ]
  },
  {
   "cell_type": "code",
   "execution_count": 22,
   "id": "9f3a1150",
   "metadata": {
    "execution": {
     "iopub.execute_input": "2024-12-03T16:41:54.876900Z",
     "iopub.status.busy": "2024-12-03T16:41:54.875745Z",
     "iopub.status.idle": "2024-12-03T16:41:54.882316Z",
     "shell.execute_reply": "2024-12-03T16:41:54.881178Z"
    },
    "papermill": {
     "duration": 0.020056,
     "end_time": "2024-12-03T16:41:54.884580",
     "exception": false,
     "start_time": "2024-12-03T16:41:54.864524",
     "status": "completed"
    },
    "tags": []
   },
   "outputs": [],
   "source": [
    "def percentile(list_num, percentile):\n",
    "    list_num = sorted(list_num)\n",
    "    n = len(list_num)\n",
    "    k = (percentile / 100) * (n + 1)\n",
    "\n",
    "    if k.is_integer():\n",
    "        return list_num[int(k) - 1]\n",
    "    \n",
    "    lower_index = int(k) - 1\n",
    "    upper_index = lower_index + 1\n",
    "    lower_value = list_num[lower_index]\n",
    "    upper_value = list_num[upper_index]\n",
    "    return lower_value + (k - lower_index - 1) * (upper_value - lower_value)"
   ]
  },
  {
   "cell_type": "code",
   "execution_count": 23,
   "id": "e64636f6",
   "metadata": {
    "execution": {
     "iopub.execute_input": "2024-12-03T16:41:54.906186Z",
     "iopub.status.busy": "2024-12-03T16:41:54.905424Z",
     "iopub.status.idle": "2024-12-03T16:41:54.910987Z",
     "shell.execute_reply": "2024-12-03T16:41:54.909927Z"
    },
    "papermill": {
     "duration": 0.018662,
     "end_time": "2024-12-03T16:41:54.913018",
     "exception": false,
     "start_time": "2024-12-03T16:41:54.894356",
     "status": "completed"
    },
    "tags": []
   },
   "outputs": [
    {
     "name": "stdout",
     "output_type": "stream",
     "text": [
      "6.4\n"
     ]
    }
   ],
   "source": [
    "percentile_ = percentile(sepal_length, 75)\n",
    "print(percentile_)"
   ]
  },
  {
   "cell_type": "code",
   "execution_count": 24,
   "id": "54841a1f",
   "metadata": {
    "execution": {
     "iopub.execute_input": "2024-12-03T16:41:54.941130Z",
     "iopub.status.busy": "2024-12-03T16:41:54.940645Z",
     "iopub.status.idle": "2024-12-03T16:41:54.949558Z",
     "shell.execute_reply": "2024-12-03T16:41:54.948049Z"
    },
    "papermill": {
     "duration": 0.028509,
     "end_time": "2024-12-03T16:41:54.951727",
     "exception": false,
     "start_time": "2024-12-03T16:41:54.923218",
     "status": "completed"
    },
    "tags": []
   },
   "outputs": [
    {
     "data": {
      "text/plain": [
       "6.4"
      ]
     },
     "execution_count": 24,
     "metadata": {},
     "output_type": "execute_result"
    }
   ],
   "source": [
    "np.percentile(sepal_length, 75)"
   ]
  },
  {
   "cell_type": "markdown",
   "id": "721f4704",
   "metadata": {
    "papermill": {
     "duration": 0.014333,
     "end_time": "2024-12-03T16:41:54.984309",
     "exception": false,
     "start_time": "2024-12-03T16:41:54.969976",
     "status": "completed"
    },
    "tags": []
   },
   "source": [
    "### Interquartile Range (IQR)\n",
    "\n",
    "The range of the middle 50% of the dataset, calculated as the difference between the third quartile ( Q3 ) and the first quartile ( Q1 ).\n",
    "\n",
    "$$\n",
    "\\text{IQR} = Q3 - Q1\n",
    "$$"
   ]
  },
  {
   "cell_type": "code",
   "execution_count": 25,
   "id": "528138d1",
   "metadata": {
    "execution": {
     "iopub.execute_input": "2024-12-03T16:41:55.011265Z",
     "iopub.status.busy": "2024-12-03T16:41:55.010736Z",
     "iopub.status.idle": "2024-12-03T16:41:55.018282Z",
     "shell.execute_reply": "2024-12-03T16:41:55.016569Z"
    },
    "papermill": {
     "duration": 0.024964,
     "end_time": "2024-12-03T16:41:55.021509",
     "exception": false,
     "start_time": "2024-12-03T16:41:54.996545",
     "status": "completed"
    },
    "tags": []
   },
   "outputs": [],
   "source": [
    "def iqr(list_num):\n",
    "    data = np.array(list_num)\n",
    "    data.sort()\n",
    "    q1 = np.percentile(list_num, 25)\n",
    "    q3 = np.percentile(list_num, 75)\n",
    "    return q3 - q1"
   ]
  },
  {
   "cell_type": "code",
   "execution_count": 26,
   "id": "73991a50",
   "metadata": {
    "execution": {
     "iopub.execute_input": "2024-12-03T16:41:55.043296Z",
     "iopub.status.busy": "2024-12-03T16:41:55.042903Z",
     "iopub.status.idle": "2024-12-03T16:41:55.050130Z",
     "shell.execute_reply": "2024-12-03T16:41:55.048867Z"
    },
    "papermill": {
     "duration": 0.02066,
     "end_time": "2024-12-03T16:41:55.052425",
     "exception": false,
     "start_time": "2024-12-03T16:41:55.031765",
     "status": "completed"
    },
    "tags": []
   },
   "outputs": [
    {
     "name": "stdout",
     "output_type": "stream",
     "text": [
      "1.3000000000000007\n"
     ]
    }
   ],
   "source": [
    "iqr_ = iqr(sepal_length)\n",
    "print(iqr_)"
   ]
  },
  {
   "cell_type": "code",
   "execution_count": 27,
   "id": "127b7555",
   "metadata": {
    "execution": {
     "iopub.execute_input": "2024-12-03T16:41:55.074621Z",
     "iopub.status.busy": "2024-12-03T16:41:55.074168Z",
     "iopub.status.idle": "2024-12-03T16:41:55.081807Z",
     "shell.execute_reply": "2024-12-03T16:41:55.080319Z"
    },
    "papermill": {
     "duration": 0.021466,
     "end_time": "2024-12-03T16:41:55.083979",
     "exception": false,
     "start_time": "2024-12-03T16:41:55.062513",
     "status": "completed"
    },
    "tags": []
   },
   "outputs": [
    {
     "name": "stdout",
     "output_type": "stream",
     "text": [
      "1.3000000000000007\n"
     ]
    }
   ],
   "source": [
    "print(np.percentile(sepal_length, 75) - np.percentile(sepal_length, 25))"
   ]
  },
  {
   "cell_type": "markdown",
   "id": "41d1a33d",
   "metadata": {
    "papermill": {
     "duration": 0.019135,
     "end_time": "2024-12-03T16:41:55.113268",
     "exception": false,
     "start_time": "2024-12-03T16:41:55.094133",
     "status": "completed"
    },
    "tags": []
   },
   "source": [
    "### Z-Scores (Standard Scores)\n",
    "\n",
    "A Z-score measures how many standard deviations a data point is from the mean.\n",
    "\n",
    "Formula:\n",
    "$$\n",
    "Z = \\frac{x - \\text{Mean}}{\\text{Standard Deviation}}\n",
    "$$"
   ]
  },
  {
   "cell_type": "code",
   "execution_count": 28,
   "id": "d92c12bb",
   "metadata": {
    "execution": {
     "iopub.execute_input": "2024-12-03T16:41:55.138040Z",
     "iopub.status.busy": "2024-12-03T16:41:55.137681Z",
     "iopub.status.idle": "2024-12-03T16:41:55.143283Z",
     "shell.execute_reply": "2024-12-03T16:41:55.142132Z"
    },
    "papermill": {
     "duration": 0.021226,
     "end_time": "2024-12-03T16:41:55.145298",
     "exception": false,
     "start_time": "2024-12-03T16:41:55.124072",
     "status": "completed"
    },
    "tags": []
   },
   "outputs": [],
   "source": [
    "def z_scores(list_num):\n",
    "    mean = sum(list_num) / len(list_num)\n",
    "    variance = sum((x - mean) ** 2 for x in list_num) / len(list_num)\n",
    "    standard_deviation = variance ** 0.5\n",
    "    \n",
    "    return [(x - mean) / standard_deviation for x in list_num]"
   ]
  },
  {
   "cell_type": "code",
   "execution_count": 29,
   "id": "706b153d",
   "metadata": {
    "execution": {
     "iopub.execute_input": "2024-12-03T16:41:55.168162Z",
     "iopub.status.busy": "2024-12-03T16:41:55.167754Z",
     "iopub.status.idle": "2024-12-03T16:41:55.178141Z",
     "shell.execute_reply": "2024-12-03T16:41:55.176744Z"
    },
    "papermill": {
     "duration": 0.02438,
     "end_time": "2024-12-03T16:41:55.180444",
     "exception": false,
     "start_time": "2024-12-03T16:41:55.156064",
     "status": "completed"
    },
    "tags": []
   },
   "outputs": [
    {
     "name": "stdout",
     "output_type": "stream",
     "text": [
      "[-0.90068117 -1.14301691 -1.38535265 -1.50652052 -1.02184904 -0.53717756\n",
      " -1.50652052 -1.02184904 -1.74885626 -1.14301691 -0.53717756 -1.26418478\n",
      " -1.26418478 -1.87002413 -0.05250608 -0.17367395 -0.53717756 -0.90068117\n",
      " -0.17367395 -0.90068117 -0.53717756 -0.90068117 -1.50652052 -0.90068117\n",
      " -1.26418478 -1.02184904 -1.02184904 -0.7795133  -0.7795133  -1.38535265\n",
      " -1.26418478 -0.53717756 -0.7795133  -0.41600969 -1.14301691 -1.02184904\n",
      " -0.41600969 -1.14301691 -1.74885626 -0.90068117 -1.02184904 -1.62768839\n",
      " -1.74885626 -1.02184904 -0.90068117 -1.26418478 -0.90068117 -1.50652052\n",
      " -0.65834543 -1.02184904  1.40150837  0.67450115  1.2803405  -0.41600969\n",
      "  0.79566902 -0.17367395  0.55333328 -1.14301691  0.91683689 -0.7795133\n",
      " -1.02184904  0.06866179  0.18982966  0.31099753 -0.29484182  1.03800476\n",
      " -0.29484182 -0.05250608  0.4321654  -0.29484182  0.06866179  0.31099753\n",
      "  0.55333328  0.31099753  0.67450115  0.91683689  1.15917263  1.03800476\n",
      "  0.18982966 -0.17367395 -0.41600969 -0.41600969 -0.05250608  0.18982966\n",
      " -0.53717756  0.18982966  1.03800476  0.55333328 -0.29484182 -0.41600969\n",
      " -0.41600969  0.31099753 -0.05250608 -1.02184904 -0.29484182 -0.17367395\n",
      " -0.17367395  0.4321654  -0.90068117 -0.17367395  0.55333328 -0.05250608\n",
      "  1.52267624  0.55333328  0.79566902  2.12851559 -1.14301691  1.76501198\n",
      "  1.03800476  1.64384411  0.79566902  0.67450115  1.15917263 -0.17367395\n",
      " -0.05250608  0.67450115  0.79566902  2.24968346  2.24968346  0.18982966\n",
      "  1.2803405  -0.29484182  2.24968346  0.55333328  1.03800476  1.64384411\n",
      "  0.4321654   0.31099753  0.67450115  1.64384411  1.88617985  2.4920192\n",
      "  0.67450115  0.55333328  0.31099753  2.24968346  0.55333328  0.67450115\n",
      "  0.18982966  1.2803405   1.03800476  1.2803405  -0.05250608  1.15917263\n",
      "  1.03800476  1.03800476  0.55333328  0.79566902  0.4321654   0.06866179]\n"
     ]
    }
   ],
   "source": [
    "z_scores_ = z_scores(sepal_length)\n",
    "print(np.array(z_scores_))"
   ]
  },
  {
   "cell_type": "code",
   "execution_count": 30,
   "id": "6f79d84e",
   "metadata": {
    "execution": {
     "iopub.execute_input": "2024-12-03T16:41:55.203792Z",
     "iopub.status.busy": "2024-12-03T16:41:55.203358Z",
     "iopub.status.idle": "2024-12-03T16:41:55.212288Z",
     "shell.execute_reply": "2024-12-03T16:41:55.211186Z"
    },
    "papermill": {
     "duration": 0.023192,
     "end_time": "2024-12-03T16:41:55.214462",
     "exception": false,
     "start_time": "2024-12-03T16:41:55.191270",
     "status": "completed"
    },
    "tags": []
   },
   "outputs": [
    {
     "name": "stdout",
     "output_type": "stream",
     "text": [
      "[-0.90068117 -1.14301691 -1.38535265 -1.50652052 -1.02184904 -0.53717756\n",
      " -1.50652052 -1.02184904 -1.74885626 -1.14301691 -0.53717756 -1.26418478\n",
      " -1.26418478 -1.87002413 -0.05250608 -0.17367395 -0.53717756 -0.90068117\n",
      " -0.17367395 -0.90068117 -0.53717756 -0.90068117 -1.50652052 -0.90068117\n",
      " -1.26418478 -1.02184904 -1.02184904 -0.7795133  -0.7795133  -1.38535265\n",
      " -1.26418478 -0.53717756 -0.7795133  -0.41600969 -1.14301691 -1.02184904\n",
      " -0.41600969 -1.14301691 -1.74885626 -0.90068117 -1.02184904 -1.62768839\n",
      " -1.74885626 -1.02184904 -0.90068117 -1.26418478 -0.90068117 -1.50652052\n",
      " -0.65834543 -1.02184904  1.40150837  0.67450115  1.2803405  -0.41600969\n",
      "  0.79566902 -0.17367395  0.55333328 -1.14301691  0.91683689 -0.7795133\n",
      " -1.02184904  0.06866179  0.18982966  0.31099753 -0.29484182  1.03800476\n",
      " -0.29484182 -0.05250608  0.4321654  -0.29484182  0.06866179  0.31099753\n",
      "  0.55333328  0.31099753  0.67450115  0.91683689  1.15917263  1.03800476\n",
      "  0.18982966 -0.17367395 -0.41600969 -0.41600969 -0.05250608  0.18982966\n",
      " -0.53717756  0.18982966  1.03800476  0.55333328 -0.29484182 -0.41600969\n",
      " -0.41600969  0.31099753 -0.05250608 -1.02184904 -0.29484182 -0.17367395\n",
      " -0.17367395  0.4321654  -0.90068117 -0.17367395  0.55333328 -0.05250608\n",
      "  1.52267624  0.55333328  0.79566902  2.12851559 -1.14301691  1.76501198\n",
      "  1.03800476  1.64384411  0.79566902  0.67450115  1.15917263 -0.17367395\n",
      " -0.05250608  0.67450115  0.79566902  2.24968346  2.24968346  0.18982966\n",
      "  1.2803405  -0.29484182  2.24968346  0.55333328  1.03800476  1.64384411\n",
      "  0.4321654   0.31099753  0.67450115  1.64384411  1.88617985  2.4920192\n",
      "  0.67450115  0.55333328  0.31099753  2.24968346  0.55333328  0.67450115\n",
      "  0.18982966  1.2803405   1.03800476  1.2803405  -0.05250608  1.15917263\n",
      "  1.03800476  1.03800476  0.55333328  0.79566902  0.4321654   0.06866179]\n"
     ]
    }
   ],
   "source": [
    "print(stats.zscore(sepal_length))"
   ]
  },
  {
   "cell_type": "markdown",
   "id": "c176575d",
   "metadata": {
    "papermill": {
     "duration": 0.009855,
     "end_time": "2024-12-03T16:41:55.234654",
     "exception": false,
     "start_time": "2024-12-03T16:41:55.224799",
     "status": "completed"
    },
    "tags": []
   },
   "source": [
    "## Data Visualization\n",
    "\n",
    "Data visualization is the graphical representation of data and information. It uses visual elements like charts, graphs, and maps to make complex data more accessible, understandable, and usable."
   ]
  },
  {
   "cell_type": "markdown",
   "id": "a639ddc8",
   "metadata": {
    "papermill": {
     "duration": 0.010833,
     "end_time": "2024-12-03T16:41:55.255642",
     "exception": false,
     "start_time": "2024-12-03T16:41:55.244809",
     "status": "completed"
    },
    "tags": []
   },
   "source": [
    "### Histogram\n",
    "\n",
    "Represents the frequency distribution of numerical data by grouping data into bins (ranges)."
   ]
  },
  {
   "cell_type": "code",
   "execution_count": 31,
   "id": "7cfbccec",
   "metadata": {
    "execution": {
     "iopub.execute_input": "2024-12-03T16:41:55.278623Z",
     "iopub.status.busy": "2024-12-03T16:41:55.278212Z",
     "iopub.status.idle": "2024-12-03T16:41:55.632768Z",
     "shell.execute_reply": "2024-12-03T16:41:55.631791Z"
    },
    "papermill": {
     "duration": 0.369172,
     "end_time": "2024-12-03T16:41:55.635210",
     "exception": false,
     "start_time": "2024-12-03T16:41:55.266038",
     "status": "completed"
    },
    "tags": []
   },
   "outputs": [
    {
     "name": "stderr",
     "output_type": "stream",
     "text": [
      "/opt/conda/lib/python3.10/site-packages/seaborn/_oldcore.py:1119: FutureWarning: use_inf_as_na option is deprecated and will be removed in a future version. Convert inf values to NaN before operating instead.\n",
      "  with pd.option_context('mode.use_inf_as_na', True):\n"
     ]
    },
    {
     "data": {
      "image/png": "[encoded data removed]",
      "text/plain": [
       "<Figure size 640x480 with 1 Axes>"
      ]
     },
     "metadata": {},
     "output_type": "display_data"
    }
   ],
   "source": [
    "sns.histplot(sepal_length, kde=True)\n",
    "plt.show()"
   ]
  },
  {
   "cell_type": "markdown",
   "id": "3ce24e55",
   "metadata": {
    "papermill": {
     "duration": 0.010363,
     "end_time": "2024-12-03T16:41:55.656702",
     "exception": false,
     "start_time": "2024-12-03T16:41:55.646339",
     "status": "completed"
    },
    "tags": []
   },
   "source": [
    "### Boxplot\n",
    "\n",
    "Displays the distribution of numerical data by showing the median, quartiles, and potential outliers."
   ]
  },
  {
   "cell_type": "code",
   "execution_count": 32,
   "id": "c022aaeb",
   "metadata": {
    "execution": {
     "iopub.execute_input": "2024-12-03T16:41:55.679929Z",
     "iopub.status.busy": "2024-12-03T16:41:55.679559Z",
     "iopub.status.idle": "2024-12-03T16:41:55.879434Z",
     "shell.execute_reply": "2024-12-03T16:41:55.878234Z"
    },
    "papermill": {
     "duration": 0.214544,
     "end_time": "2024-12-03T16:41:55.881838",
     "exception": false,
     "start_time": "2024-12-03T16:41:55.667294",
     "status": "completed"
    },
    "tags": []
   },
   "outputs": [
    {
     "data": {
      "image/png": "[encoded data removed]",
      "text/plain": [
       "<Figure size 640x480 with 1 Axes>"
      ]
     },
     "metadata": {},
     "output_type": "display_data"
    }
   ],
   "source": [
    "sns.boxplot(sepal_length)\n",
    "plt.show()"
   ]
  },
  {
   "cell_type": "markdown",
   "id": "97a6c5a9",
   "metadata": {
    "papermill": {
     "duration": 0.011156,
     "end_time": "2024-12-03T16:41:55.904015",
     "exception": false,
     "start_time": "2024-12-03T16:41:55.892859",
     "status": "completed"
    },
    "tags": []
   },
   "source": [
    "### Barchart\n",
    "\n",
    "Displays data with rectangular bars, where the length of the bar represents the value."
   ]
  },
  {
   "cell_type": "code",
   "execution_count": 33,
   "id": "dcad7bf4",
   "metadata": {
    "execution": {
     "iopub.execute_input": "2024-12-03T16:41:55.927668Z",
     "iopub.status.busy": "2024-12-03T16:41:55.927287Z",
     "iopub.status.idle": "2024-12-03T16:41:56.257717Z",
     "shell.execute_reply": "2024-12-03T16:41:56.256460Z"
    },
    "papermill": {
     "duration": 0.345112,
     "end_time": "2024-12-03T16:41:56.260287",
     "exception": false,
     "start_time": "2024-12-03T16:41:55.915175",
     "status": "completed"
    },
    "tags": []
   },
   "outputs": [
    {
     "data": {
      "image/png": "[encoded data removed]",
      "text/plain": [
       "<Figure size 640x480 with 1 Axes>"
      ]
     },
     "metadata": {},
     "output_type": "display_data"
    }
   ],
   "source": [
    "plt.bar(df['species'], df['sepal_length'])\n",
    "plt.show()"
   ]
  },
  {
   "cell_type": "markdown",
   "id": "85a4b533",
   "metadata": {
    "papermill": {
     "duration": 0.011633,
     "end_time": "2024-12-03T16:41:56.283329",
     "exception": false,
     "start_time": "2024-12-03T16:41:56.271696",
     "status": "completed"
    },
    "tags": []
   },
   "source": [
    "### Scatter\n",
    "\n",
    "Displays relationships between two continuous variables. It’s useful for visualizing correlations, clusters, or outliers."
   ]
  },
  {
   "cell_type": "code",
   "execution_count": 34,
   "id": "f517c7a1",
   "metadata": {
    "execution": {
     "iopub.execute_input": "2024-12-03T16:41:56.308256Z",
     "iopub.status.busy": "2024-12-03T16:41:56.307831Z",
     "iopub.status.idle": "2024-12-03T16:41:56.488742Z",
     "shell.execute_reply": "2024-12-03T16:41:56.487492Z"
    },
    "papermill": {
     "duration": 0.196291,
     "end_time": "2024-12-03T16:41:56.491129",
     "exception": false,
     "start_time": "2024-12-03T16:41:56.294838",
     "status": "completed"
    },
    "tags": []
   },
   "outputs": [
    {
     "data": {
      "image/png": "[encoded data removed]",
      "text/plain": [
       "<Figure size 640x480 with 1 Axes>"
      ]
     },
     "metadata": {},
     "output_type": "display_data"
    }
   ],
   "source": [
    "plt.scatter(df['sepal_length'], df['sepal_width'])\n",
    "plt.show()"
   ]
  }
 ],
 "metadata": {
  "kaggle": {
   "accelerator": "none",
   "dataSources": [],
   "dockerImageVersionId": 30786,
   "isGpuEnabled": false,
   "isInternetEnabled": true,
   "language": "python",
   "sourceType": "notebook"
  },
  "kernelspec": {
   "display_name": "Python 3",
   "language": "python",
   "name": "python3"
  },
  "language_info": {
   "codemirror_mode": {
    "name": "ipython",
    "version": 3
   },
   "file_extension": ".py",
   "mimetype": "text/x-python",
   "name": "python",
   "nbconvert_exporter": "python",
   "pygments_lexer": "ipython3",
   "version": "3.10.14"
  },
  "papermill": {
   "default_parameters": {},
   "duration": 10.072009,
   "end_time": "2024-12-03T16:41:57.224854",
   "environment_variables": {},
   "exception": null,
   "input_path": "__notebook__.ipynb",
   "output_path": "__notebook__.ipynb",
   "parameters": {},
   "start_time": "2024-12-03T16:41:47.152845",
   "version": "2.6.0"
  }
 },
 "nbformat": 4,
 "nbformat_minor": 5
}
